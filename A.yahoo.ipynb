{
 "cells": [
  {
   "cell_type": "code",
   "execution_count": 2,
   "metadata": {},
   "outputs": [
    {
     "name": "stdout",
     "output_type": "stream",
     "text": [
      "標題:曖昧周旋4女人 美眉小他53歲\n",
      "網址:https://tw.news.yahoo.com/%E6%B3%B0%E5%85%AC-%E5%B0%BE%E9%BE%8D2-%E4%B9%BE%E7%88%BA%E7%88%BA%E5%91%A8%E6%97%8B4%E5%A5%B3%E9%AB%94%E5%8A%9B%E5%A5%BD-%E5%B0%8F%E8%9C%9C%E5%AF%B6%E7%99%BD%E7%9A%99%E9%95%B7%E8%85%BF%E6%9C%80%E5%90%B8%E7%9D%9B-215858961.html\n",
      "標題:1870億榮景恐消失「年輕人不買」\n",
      "網址:https://tw.news.yahoo.com/%E7%95%B6%E5%B9%B4%E8%BC%95%E4%BA%BA%E9%83%BD%E4%B8%8D%E5%86%8D%E8%B2%B7%E8%BB%8A%E5%8F%B0%E7%81%A3%E8%B3%A3%E8%BB%8A%E9%BE%8D%E9%A0%AD%E7%82%BA%E4%BD%95%E8%A6%81%E5%8E%BB%E7%A7%9F%E5%81%9C%E8%BB%8A%E5%A0%B4%E6%8F%AD%E5%92%8C%E6%B3%B0%E6%B1%82%E7%94%9F%E6%89%93%E7%AE%97-081133185.html\n",
      "標題:公宅淪瑕疵品 不到1年近2千投訴\n",
      "網址:https://tw.news.yahoo.com/%E6%BC%8F%E6%B0%B4%E5%A3%81%E7%99%8C-%E5%A0%86-%E5%8C%97%E5%B8%82%E8%88%88%E9%9A%86%E5%85%AC%E5%AE%85-%E6%8A%95%E8%A8%B4%E8%BF%912000%E4%BB%B6-215010955.html\n",
      "標題:品牌悲哀 名店小公主狠告3血親\n",
      "網址:https://tw.news.yahoo.com/%E5%8D%A1%E5%A5%B4%E5%A6%B9%E6%90%B6%E5%95%86%E6%A8%991-%E5%93%81%E7%89%8C%E6%82%B2%E5%93%80-%E9%BA%BB%E7%B3%AC%E5%90%8D%E5%BA%97%E5%B0%8F%E5%85%AC%E4%B8%BB%E7%8B%A0%E5%91%8A3%E8%A1%80%E8%A6%AA-220100970.html\n",
      "標題:外送員之死：看見台灣的第三世界\n",
      "網址:https://tw.news.yahoo.com/%E5%A4%96%E9%80%81%E5%93%A1%E4%B9%8B%E6%AD%BB%E7%9C%8B%E8%A6%8B%E5%8F%B0%E7%81%A3%E7%9A%84%E7%AC%AC%E4%B8%89%E4%B8%96%E7%95%8C%E6%99%AF%E8%B1%A1-033528340.html\n",
      "標題:NBA流行看數據？KD爆粗口了\n",
      "網址:https://tw.news.yahoo.com/nba-%E4%B8%8D%E6%98%AF%E6%95%B8%E6%93%9A%E7%8B%82-kd%E7%88%86%E7%B2%97%E5%8F%A3-%E8%AB%87%E7%B1%83%E7%90%83%E6%99%82%E4%BB%96x%E7%9A%84%E8%AA%B0%E6%83%B3%E7%9C%8B%E5%9C%96%E8%A1%A8-021844819.html\n",
      "標題:NBA／綠衫軍菜鳥單節狂飆8顆三分　主帥：沒看過這種事！\n",
      "網址:https://tw.news.yahoo.com/nba-%E7%B6%A0%E8%A1%AB%E8%BB%8D%E8%8F%9C%E9%B3%A5%E5%96%AE%E7%AF%80%E7%8B%82%E9%A3%868%E9%A1%86%E4%B8%89%E5%88%86-%E4%B8%BB%E5%B8%A5-%E6%B2%92%E7%9C%8B%E9%81%8E%E9%80%99%E7%A8%AE%E4%BA%8B-053140534.html\n",
      "標題:7局扣倒菲律賓 南韓驚險進4強\n",
      "網址:https://tw.sports.yahoo.com/news/%E4%BA%9E%E9%8C%A6%E8%B3%BD-%E9%9F%93%E5%9C%8B%E6%89%A3%E5%80%92%E8%8F%B2-%E9%9F%93%E4%B8%AD%E9%A9%9A%E9%9A%AA%E9%80%B24%E5%BC%B7-071714372.html\n",
      "標題:詹皇專注爭冠 不再談政治風波 \n",
      "網址:https://tw.sports.yahoo.com/news/%E4%B8%8D%E5%86%8D%E8%AB%87%E6%94%BF%E6%B2%BB%E8%AD%B0%E9%A1%8C-james%E5%B0%88%E6%B3%A8%E5%A5%AA%E5%86%A0-033911085.html\n",
      "標題:搶東奧門票 大王霸氣穿搭應援\n",
      "網址:https://tw.sports.yahoo.com/news/12-%E5%BC%B7%E6%A3%92%E7%90%83%E8%B3%BD%E5%BC%B7%E5%8A%9B%E9%96%8B%E6%89%93-%E7%8E%8B%E6%9F%8F%E8%9E%8D%E7%A9%BF%E6%90%AD%E9%99%90%E9%87%8F%E6%8C%BA%E4%B8%AD%E8%8F%AF%E6%87%89%E6%8F%B4%E5%A4%96%E5%A5%97-051209109.html\n",
      "標題:誤信偏方險丟命 脫線近況曝光\n",
      "網址:https://tw.news.yahoo.com/%E6%9B%BE%E5%96%9D-%E5%81%8F%E6%96%B9-%E8%85%8E%E8%A1%B0%E7%AB%AD%E9%9A%AA%E4%B8%9F%E5%91%BD-87%E6%AD%B2%E8%84%AB%E7%B7%9A%E8%BF%91%E6%B3%81%E6%9B%9D%E5%85%89-050650959.html\n",
      "標題:在台喝喜酒 福原愛怕被當伴娘\n",
      "網址:https://tw.news.yahoo.com/%E9%A6%96%E6%AC%A1%E5%9C%A8%E5%8F%B0%E5%96%9D%E5%96%9C%E9%85%92-%E7%A6%8F%E5%8E%9F%E6%84%9B%E5%96%8A%E8%B7%9F%E6%97%A5%E6%9C%AC%E6%9C%89%E5%B7%AE-054005660.html\n",
      "標題:丁國琳被打槍 全因「太年輕」\n",
      "網址:https://tw.news.yahoo.com/%E4%B8%81%E5%9C%8B%E7%90%B3%E5%BF%83%E6%83%85%E4%B8%8D%E7%BE%8E%E9%BA%97-%E7%AB%9F%E5%9B%A0-%E5%A4%AA%E5%B9%B4%E8%BC%95-%E9%81%AD%E8%A3%BD%E4%BD%9C%E5%96%AE%E4%BD%8D%E6%89%93%E6%A7%8D-044335268.html\n",
      "標題:靠毒品發大財 影帝惹殺身之禍\n",
      "網址:https://movies.yahoo.com.tw/article/%E7%B4%B3%E5%A3%AB%E8%BF%BD%E6%AE%BA%E4%BB%A4%E5%BD%B1%E5%B8%9D%E9%A6%AC%E4%BF%AE%E9%BA%A5%E5%BA%B7%E7%B4%8D%E9%9D%A0%E5%A4%A7%E9%BA%BB%E7%99%BC%E5%A4%A7%E8%B2%A1-%E5%8F%B0%E7%81%A3%E5%A5%B3%E5%A9%BF%E5%A4%A7%E6%90%9E%E9%BB%91%E5%90%83%E9%BB%91-114235847.html\n",
      "標題:「小丑」拍戲發飆？原來是假的\n",
      "網址:https://movies.yahoo.com.tw/article/小丑-拍戲發飆其實是假的-大家都被瓦昆整了-083145778.html\n",
      "標題:豪宅旁凸1大根 內行：有用途\n",
      "網址:https://travel.yahoo.com.tw/%E9%87%91%E9%96%80-%E6%B0%B4%E9%A0%AD%E8%81%9A%E8%90%BD%E5%BE%97%E6%9C%88%E6%A8%93-010240181.html#1016im\n",
      "標題:室友激戰女友 轉頭見另一幕傻\n",
      "網址:https://tw.news.yahoo.com/%E5%AE%BF%E8%88%8D%E8%AE%8A%E7%82%AE%E6%88%BF-%E5%AE%A4%E5%8F%8B%E5%92%8C%E5%A5%B3%E5%8F%8B%E5%95%AA%E5%95%AA-%E4%BB%96%E9%A9%9A%E8%A6%8B%E5%8F%A6-%E5%B9%95%E6%84%A3%E4%BD%8F-080500561.html#1015im\n",
      "標題:台海邊解放？正妹穿醬男母湯\n",
      "網址:https://travel.yahoo.com.tw/news/%E7%BE%8E%E5%93%AD%E4%BA%86%E5%8F%B0%E5%8C%97%E5%9F%8E%E8%A3%A1%E7%9A%84%E9%80%99%E5%B9%BE%E5%AE%B6%E5%92%96%E5%95%A1%E9%A4%A8%E5%A4%A2%E5%B9%BB%E5%88%B0%E4%B8%8D%E7%94%A8%E9%A3%9B%E5%87%BA%E5%9C%8B-052540887.html#1016im\n",
      "標題:50年這顆排翻 不知1事當場囧\n",
      "網址:https://travel.yahoo.com.tw/%E6%A1%83%E5%9C%92-%E6%B2%92%E5%90%83%E9%81%8E%E9%80%99-%E5%AE%B6%E5%88%A5%E8%AA%AA%E4%BD%A0%E4%BE%86%E9%81%8E%E5%A4%A7%E6%BA%AA%E8%80%81%E8%A1%97-%E7%86%B1%E8%B3%A350%E5%B9%B4%E8%B6%85%E7%8B%82%E6%8E%92%E9%9A%8A%E5%90%8D%E5%BA%97-085152915.html#1016im\n",
      "標題:女體藏8cm流汁 揭2年真相醫呆\n",
      "網址:https://tw.news.yahoo.com/%E7%8B%82%E6%B5%81%E8%86%BF%E6%B1%81%E8%87%89%E5%BF%AB%E7%88%9B-%E5%A5%B3%E8%82%89%E8%A3%A1%E8%97%8F8cm%E6%A8%B9%E6%9E%9D-%E5%AE%B6%E4%BA%BA%E6%8F%AD%E9%A9%9A%E4%BA%BA%E7%9C%9F%E7%9B%B8-123012926.html#1016im\n",
      "標題:49天閃婚！陸尪po文認誤了台妻\n",
      "網址:https://style.yahoo.com.tw/%E6%B1%AA%E5%B0%8F%E8%8F%B2%E5%8D%8A%E5%A4%9C%E7%99%BC%E6%96%87%E6%84%9F%E5%98%86%E6%84%9F%E8%A6%BA%E8%80%BD%E8%AA%A4%E5%A4%A7s-%E8%A6%81%E4%B8%8D%E6%98%AF%E5%9B%A0%E7%82%BA%E6%88%91-%E5%A5%B9-%E5%AE%9A%E6%9C%89%E6%9B%B4%E5%A5%BD%E7%9A%84%E6%88%90%E5%B0%B1%E5%90%A7-%E4%BD%86%E7%B6%B2%E5%8F%8B%E7%9A%84%E8%A9%95%E8%AB%96%E6%84%8F%E5%A4%96%E6%9A%96%E5%BF%83-235500375.html#1016ac\n",
      "標題:切除雙乳離3次婚 世界最美近況\n",
      "網址:https://style.yahoo.com.tw/%E5%AE%89%E6%BD%94%E8%8E%89%E5%A8%9C%E8%A3%98%E8%8E%89%E6%95%99%E8%82%B2%E5%A5%B3%E5%85%92-%E5%86%8D%E7%BE%8E%E7%9A%84%E5%A4%96%E8%A1%A8%E9%83%BD%E5%8F%AA%E6%98%AF%E8%BB%80%E6%AE%BC-%E5%8F%AA%E6%9C%89%E5%AD%B8%E6%9C%83%E7%8D%A8%E7%AB%8B%E6%80%9D%E8%80%83%E6%89%8D%E8%83%BD%E8%AE%93%E5%A6%B3%E6%92%A9%E4%BA%BA-020000184.html#1016ac\n",
      "標題:臉上乾巴巴？CNN：喝這杯才對\n",
      "網址:https://style.yahoo.com.tw/%E8%82%8C%E8%86%9A%E8%A6%81%E5%A5%BD%E5%85%89%E5%96%9D%E6%B0%B4%E9%82%84%E4%B8%8D%E5%A4%A0%E5%A4%96%E5%9C%8B%E7%A0%94%E7%A9%B6%E5%A4%9A%E5%96%9D%E9%80%99%E4%B8%80%E6%A8%A3%E6%89%8D%E6%AD%A3%E7%A2%BA-012212478.html#1016ac\n",
      "標題:瘦不下來…吃飯多30秒甩肥肉了\n",
      "網址:https://style.yahoo.com.tw/%E6%80%8E%E9%BA%BC%E6%B8%9B%E8%82%A5%E9%83%BD%E7%98%A6%E4%B8%8D%E4%B8%8B%E4%BE%86-%E8%B7%9F-%E9%80%99%E4%BB%B6%E4%BA%8B-%E6%9C%89%E5%BE%88%E5%A4%A7%E7%9A%84%E9%97%9C%E4%BF%82-%E7%A0%94%E7%A9%B6%E9%A1%AF%E7%A4%BA-130000724.html#1016ac\n",
      "標題:90%人用過 高CP值開架銷量第1\n",
      "網址:https://style.yahoo.com.tw/%E9%80%99-7-%E5%80%8B%E7%89%8C%E5%AD%90-90-%E7%9A%84%E4%BA%BA%E7%B5%95%E5%B0%8D%E9%83%BD%E7%94%A8%E9%81%8E%E7%84%A1%E7%97%9B%E5%85%A5%E6%89%8B%E9%AB%98cp%E5%80%BC%E7%BE%8E%E5%A6%9D%E8%A6%81%E8%B2%B7%E4%BB%80%E9%BA%BC%E9%80%9A%E9%80%9A%E5%B9%AB%E4%BD%A0%E7%95%AB%E5%A5%BD%E9%87%8D%E9%BB%9E%E5%95%A6-005525567.html#1016ac\n",
      "標題:10年好友反目 古天樂遭詐千萬\n",
      "網址:https://tw.tv.yahoo.com/mannerproduction/%E5%88%B0%E6%9C%8B%E5%8F%8B%E7%9A%84%E9%A3%AF%E5%B1%80%E5%90%83%E9%A3%AF-%E5%8D%BB%E9%81%87%E5%88%B0%E9%80%99%E4%BA%9B%E5%A4%A7%E6%98%8E%E6%98%9F-ft-%E5%BC%B5%E5%AE%B6%E8%BC%9D-%E5%8F%A4%E5%A4%A9%E6%A8%82-051825012.html#1016hh\n",
      "標題:社區這根紅全球 房價飆漲囧了\n",
      "網址:https://www.litv.tv/vod/show/content.do?content_id=VOD00158667&sponsorName=eWFob28=&autoPlay=1#1016hh\n",
      "標題:政府廢除這法 薪水多10倍嘸人\n",
      "網址:https://tw.tv.yahoo.com/chi77/%E5%8F%B0%E7%81%A3%E4%B9%9F%E6%9C%89%E5%90%88%E6%B3%95%E6%80%A7%E4%BA%A4%E6%98%93-%E8%B5%B7%E4%BE%86%E5%9B%9E%E9%A1%A7%E5%85%AC%E5%A8%BC%E7%9A%84%E8%BE%9B%E9%85%B8%E8%A1%80%E6%B7%9A%E5%8F%B2-143126694.html#1016hh\n",
      "標題:太嗨心臟險停 高山峰4字認不行\n",
      "網址:https://www.litv.tv/vod/show/content.do?content_id=VOD00158712&sponsorName=eWFob28=&autoPlay=1#1016hh\n",
      "標題:寵物養這隻？戰鬥民族也怕了\n",
      "網址:https://tw.tv.yahoo.com/ycreators/%E6%88%B0%E9%AC%A5%E6%B0%91%E6%97%8F%E9%83%BD%E8%B7%9F%E7%86%8A%E6%89%93%E6%9E%B6%E5%97%8E-%E5%AF%A6%E9%9A%9B%E8%A8%AA%E5%95%8F%E7%A0%B4%E8%A7%A3%E4%BF%84%E7%BE%85%E6%96%AF9%E5%A4%A7%E8%BF%B7%E6%80%9D-141126938.html#1006hh\n"
     ]
    }
   ],
   "source": [
    "import requests\n",
    "from bs4 import BeautifulSoup\n",
    "r = requests.get('https://tw.yahoo.com/')\n",
    "if r.status_code==requests.codes.ok:\n",
    "    soup = BeautifulSoup(r.text,'html.parser')\n",
    "    stories = soup.find_all('a',class_='story-title')\n",
    "    for s in stories:\n",
    "        print(\"標題:\"+ s.text)\n",
    "        print(\"網址:\"+ s.get('href'))"
   ]
  },
  {
   "cell_type": "code",
   "execution_count": null,
   "metadata": {},
   "outputs": [],
   "source": []
  }
 ],
 "metadata": {
  "kernelspec": {
   "display_name": "Python 3",
   "language": "python",
   "name": "python3"
  },
  "language_info": {
   "codemirror_mode": {
    "name": "ipython",
    "version": 3
   },
   "file_extension": ".py",
   "mimetype": "text/x-python",
   "name": "python",
   "nbconvert_exporter": "python",
   "pygments_lexer": "ipython3",
   "version": "3.7.3"
  }
 },
 "nbformat": 4,
 "nbformat_minor": 2
}
