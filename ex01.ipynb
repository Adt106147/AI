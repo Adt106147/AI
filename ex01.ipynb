{
 "cells": [
  {
   "cell_type": "code",
   "execution_count": 1,
   "metadata": {},
   "outputs": [
    {
     "name": "stdout",
     "output_type": "stream",
     "text": [
      "請輸入n:\n",
      "5\n",
      "1+2+...+n= 15.0\n"
     ]
    }
   ],
   "source": [
    "print(\"請輸入n:\")\n",
    "x = int(input())\n",
    "def sum(x):\n",
    "    result = (1+x)*x/2\n",
    "    print(\"1+2+...+n= \"+str(result))\n",
    "sum(x)"
   ]
  }
 ],
 "metadata": {
  "kernelspec": {
   "display_name": "Python 3",
   "language": "python",
   "name": "python3"
  },
  "language_info": {
   "codemirror_mode": {
    "name": "ipython",
    "version": 3
   },
   "file_extension": ".py",
   "mimetype": "text/x-python",
   "name": "python",
   "nbconvert_exporter": "python",
   "pygments_lexer": "ipython3",
   "version": "3.6.5"
  }
 },
 "nbformat": 4,
 "nbformat_minor": 2
}
