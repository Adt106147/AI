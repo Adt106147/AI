{
 "cells": [
  {
   "cell_type": "code",
   "execution_count": 4,
   "metadata": {},
   "outputs": [
    {
     "name": "stderr",
     "output_type": "stream",
     "text": [
      "Building prefix dict from C:\\Users\\K410\\斷句與文字雲\\dictionary\\dict.txt.big.txt ...\n",
      "Loading model from cache C:\\Users\\K410\\AppData\\Local\\Temp\\jieba.u3220a123bb75257a6a788e97236c2083.cache\n",
      "Loading model cost 1.151 seconds.\n",
      "Prefix dict has been built succesfully.\n"
     ]
    },
    {
     "name": "stdout",
     "output_type": "stream",
     "text": [
      "停用詞:﻿\"|;|,|。|來到\n",
      "預設模式:劉維|來到|國立台中教育大學|數位系|就讀|碩士\n",
      "全文模式:劉維|來到|國立|國立台中教育大學|台中|教育|大學|數位|數位系|就讀|碩士\n",
      "搜尋模式:劉維|來到|國立|台中|教育|大學|國立台中教育大學|數位|數位系|就讀|碩士\n"
     ]
    }
   ],
   "source": [
    "import jieba\n",
    "\n",
    "jieba.set_dictionary('dictionary/dict.txt.big.txt')\n",
    "\n",
    "jieba.load_userdict('dictionary/user_dict.txt')\n",
    "\n",
    "with open(\"dictionary/stopword.txt\",'r',encoding='utf-8') as file:\n",
    "    stops = file.read().split('\\n')\n",
    "print(\"停用詞:\"+'|'.join(stops))\n",
    "\n",
    "sentence=\"劉維來到國立台中教育大學數位系就讀碩士\"\n",
    "\n",
    "breakword=jieba.cut(sentence,cut_all=False)\n",
    "final_words = []\n",
    "\n",
    "for word in breakword:\n",
    "    if word not in stops:\n",
    "        final_words.append(word)\n",
    "\n",
    "breakword=jieba.cut(sentence,cut_all=False)\n",
    "print(\"預設模式:\"+'|'.join(breakword))\n",
    "\n",
    "breakword=jieba.cut(sentence,cut_all=True)\n",
    "print(\"全文模式:\"+'|'.join(breakword))\n",
    "\n",
    "breakword=jieba.cut_for_search(sentence)\n",
    "print(\"搜尋模式:\"+'|'.join(breakword))"
   ]
  },
  {
   "cell_type": "code",
   "execution_count": null,
   "metadata": {},
   "outputs": [],
   "source": []
  }
 ],
 "metadata": {
  "kernelspec": {
   "display_name": "Python 3",
   "language": "python",
   "name": "python3"
  },
  "language_info": {
   "codemirror_mode": {
    "name": "ipython",
    "version": 3
   },
   "file_extension": ".py",
   "mimetype": "text/x-python",
   "name": "python",
   "nbconvert_exporter": "python",
   "pygments_lexer": "ipython3",
   "version": "3.6.5"
  }
 },
 "nbformat": 4,
 "nbformat_minor": 2
}
