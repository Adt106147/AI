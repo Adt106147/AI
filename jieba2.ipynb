{
 "cells": [
  {
   "cell_type": "code",
   "execution_count": 1,
   "metadata": {},
   "outputs": [
    {
     "name": "stderr",
     "output_type": "stream",
     "text": [
      "Building prefix dict from the default dictionary ...\n",
      "Loading model from cache C:\\Users\\K410\\AppData\\Local\\Temp\\jieba.cache\n",
      "Loading model cost 0.695 seconds.\n",
      "Prefix dict has been built succesfully.\n"
     ]
    },
    {
     "name": "stdout",
     "output_type": "stream",
     "text": [
      "Full Mode: 我/來/到/台中/教育/大/學\n",
      "Default Mode: 我來/到/台/中/教育/大學\n",
      "我來,到,台,中,教育,大學\n",
      "志明,碩士,畢業,於,台,中,教育,大學,，,後,在,日本,東京大學,深造\n"
     ]
    }
   ],
   "source": [
    "#encoding=utf-8\n",
    "import jieba\n",
    "\n",
    "seg_list=jieba.cut(\"我來到台中教育大學\",cut_all=True)\n",
    "print(\"Full Mode:\",\"/\".join(seg_list))\n",
    "\n",
    "seg_list=jieba.cut(\"我來到台中教育大學\",cut_all=False)\n",
    "print(\"Default Mode:\",\"/\".join(seg_list))\n",
    "\n",
    "seg_list=jieba.cut(\"我來到台中教育大學\")\n",
    "print(\",\".join(seg_list))\n",
    "\n",
    "seg_list=jieba.cut(\"志明碩士畢業於台中教育大學，後在日本東京大學深造\")\n",
    "print(\",\".join(seg_list))"
   ]
  },
  {
   "cell_type": "code",
   "execution_count": 6,
   "metadata": {},
   "outputs": [
    {
     "name": "stderr",
     "output_type": "stream",
     "text": [
      "Building prefix dict from C:\\Users\\K410\\斷句與文字雲\\dictionary\\dict.txt.big.txt ...\n",
      "Loading model from cache C:\\Users\\K410\\AppData\\Local\\Temp\\jieba.u3220a123bb75257a6a788e97236c2083.cache\n",
      "Loading model cost 1.197 seconds.\n",
      "Prefix dict has been built succesfully.\n"
     ]
    },
    {
     "name": "stdout",
     "output_type": "stream",
     "text": [
      "預設模式:劉維|，|來到|國立|台中教育大學|數位|系|就讀|碩士|。\n",
      "全文模式:劉|維|||來到|國立|台中|台中教育大學|教育|大學|數位|系|就讀|碩士||\n",
      "搜尋模式:劉維|，|來到|國立|台中|教育|大學|台中教育大學|數位|系|就讀|碩士|。\n"
     ]
    }
   ],
   "source": [
    "jieba.set_dictionary('dictionary/dict.txt.big.txt')\n",
    "\n",
    "jieba.add_word('台中教育大學')\n",
    "\n",
    "sentence=\"劉維，來到國立台中教育大學數位系就讀碩士。\"\n",
    "\n",
    "breakword=jieba.cut(sentence,cut_all=False)\n",
    "print(\"預設模式:\"+'|'.join(breakword))\n",
    "\n",
    "breakword=jieba.cut(sentence,cut_all=True)\n",
    "print(\"全文模式:\"+'|'.join(breakword))\n",
    "\n",
    "breakword=jieba.cut_for_search(sentence)\n",
    "print(\"搜尋模式:\"+'|'.join(breakword))"
   ]
  },
  {
   "cell_type": "code",
   "execution_count": null,
   "metadata": {},
   "outputs": [],
   "source": []
  }
 ],
 "metadata": {
  "kernelspec": {
   "display_name": "Python 3",
   "language": "python",
   "name": "python3"
  },
  "language_info": {
   "codemirror_mode": {
    "name": "ipython",
    "version": 3
   },
   "file_extension": ".py",
   "mimetype": "text/x-python",
   "name": "python",
   "nbconvert_exporter": "python",
   "pygments_lexer": "ipython3",
   "version": "3.6.5"
  }
 },
 "nbformat": 4,
 "nbformat_minor": 2
}
