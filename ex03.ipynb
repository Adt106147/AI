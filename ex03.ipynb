{
 "cells": [
  {
   "cell_type": "code",
   "execution_count": 2,
   "metadata": {},
   "outputs": [
    {
     "name": "stdout",
     "output_type": "stream",
     "text": [
      "請輸入身高(m):\n",
      "1.75\n",
      "你的身高為:1.75m\n",
      "請輸入體重(kg):\n",
      "61\n",
      "你的體重為:61.00kg\n",
      "你的BMI值為19.918\n",
      "體重正常\n"
     ]
    }
   ],
   "source": [
    "print(\"請輸入身高(m):\")\n",
    "h=float(input())\n",
    "print(\"你的身高為:%.2fm\"%(h))\n",
    "print(\"請輸入體重(kg):\")\n",
    "w=float(input())\n",
    "print(\"你的體重為:%.2fkg\"%(w))\n",
    "def BMI_func():\n",
    "        BMI=w/pow(h,2)\n",
    "        print(\"你的BMI值為%.3f\"%(BMI))\n",
    "        if BMI<18.5:\n",
    "            print(\"體重過輕\")\n",
    "        elif BMI>=18.5 and BMI<24:\n",
    "            print(\"體重正常\")\n",
    "        elif BMI>=24 and BMI<27:\n",
    "            print(\"過重\")\n",
    "        elif BMI>=27 and BMI<30:\n",
    "            print(\"輕度肥胖\")\n",
    "        elif BMI>=30 and BMI<35:\n",
    "            print(\"中度肥胖\")\n",
    "        else:\n",
    "            print(\"重度肥胖\")\n",
    "BMI_func()\n"
   ]
  }
 ],
 "metadata": {
  "kernelspec": {
   "display_name": "Python 3",
   "language": "python",
   "name": "python3"
  },
  "language_info": {
   "codemirror_mode": {
    "name": "ipython",
    "version": 3
   },
   "file_extension": ".py",
   "mimetype": "text/x-python",
   "name": "python",
   "nbconvert_exporter": "python",
   "pygments_lexer": "ipython3",
   "version": "3.6.5"
  }
 },
 "nbformat": 4,
 "nbformat_minor": 2
}
