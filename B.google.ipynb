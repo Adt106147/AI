{
 "cells": [
  {
   "cell_type": "code",
   "execution_count": 1,
   "metadata": {},
   "outputs": [
    {
     "name": "stdout",
     "output_type": "stream",
     "text": [
      "標題:\n",
      "網址:/url?q=https://zh.wikipedia.org/wiki/%25E5%25BE%25B7%25E7%25BB%25B4%25E6%2581%25A9%25C2%25B7%25E9%259F%25A6%25E5%25BE%25B7&sa=U&ved=2ahUKEwiAlKqwzqDlAhUUHzQIHQsOA7cQwW4wAHoECAsQAg&usg=AOvVaw0s65nSeqG9-Euq982aIMvi\n",
      "標題:德维恩·韦德- 维基百科，自由的百科全书https://zh.wikipedia.org › zh-tw\n",
      "網址:/url?q=https://zh.wikipedia.org/zh-tw/%25E5%25BE%25B7%25E7%25BB%25B4%25E6%2581%25A9%25C2%25B7%25E9%259F%25A6%25E5%25BE%25B7&sa=U&ved=2ahUKEwiAlKqwzqDlAhUUHzQIHQsOA7cQFjALegQICRAB&usg=AOvVaw0QWJ2cHljCTfhsaIhQuw6_\n",
      "標題:又一大傳奇謝幕？！NBA 球星「閃電俠」Dwyane Wade 下季打完或將 ...https://www.juksy.com › archives\n",
      "網址:/url?q=https://www.juksy.com/archives/81425&sa=U&ved=2ahUKEwiAlKqwzqDlAhUUHzQIHQsOA7cQFjAMegQICBAB&usg=AOvVaw2fat495eqrUkg80vlMg4gn\n",
      "標題:Dwyane Wade Stats | Basketball-Reference.comhttps://www.basketball-reference.com › Players › W\n",
      "網址:/url?q=https://www.basketball-reference.com/players/w/wadedw01.html&sa=U&ved=2ahUKEwiAlKqwzqDlAhUUHzQIHQsOA7cQFjANegQIBxAB&usg=AOvVaw1DKP_7YFnCn9-0M7WNbe8d\n",
      "標題:說不出再見，永遠的閃電俠Dwyane Wade。 - NBA - 籃球| 運動視界 ...https://www.sportsv.net › 籃球 › NBA\n",
      "網址:/url?q=https://www.sportsv.net/articles/61603&sa=U&ved=2ahUKEwiAlKqwzqDlAhUUHzQIHQsOA7cQFjAOegQIChAB&usg=AOvVaw08MTsIKBBFKlcj-X_fmw0M\n",
      "標題:說再見的時刻－謝謝你，Dwyane Wade - NBA - 籃球| 運動視界Sports ...https://www.sportsv.net › 籃球 › NBA\n",
      "網址:/url?q=https://www.sportsv.net/articles/61577&sa=U&ved=2ahUKEwiAlKqwzqDlAhUUHzQIHQsOA7cQFjAPegQIBRAB&usg=AOvVaw0EmTgz8F7UMweS9JtBC3AM\n",
      "標題:Dwyane Wade | 動網DONGTWhttps://www.dongtw.com › tag › dwyane-wade\n",
      "網址:/url?q=https://www.dongtw.com/tag/dwyane-wade&sa=U&ved=2ahUKEwiAlKqwzqDlAhUUHzQIHQsOA7cQFjAQegQIBhAB&usg=AOvVaw0ZIaawhXIHRybUavlqInBG\n",
      "標題:Dwyane Wade - Forbeshttps://www.forbes.com › profile › dwyane-wade\n",
      "網址:/url?q=https://www.forbes.com/profile/dwyane-wade/&sa=U&ved=2ahUKEwiAlKqwzqDlAhUUHzQIHQsOA7cQFjARegQIARAB&usg=AOvVaw3sv9LNLThDmir0rrU0nVnh\n",
      "標題:Dwyane Wade - Home | Facebookhttps://www.facebook.com › Pages › Public Figure › Athlete\n",
      "網址:/url?q=https://www.facebook.com/dwyanewade/&sa=U&ved=2ahUKEwiAlKqwzqDlAhUUHzQIHQsOA7cQFjASegQIAxAB&usg=AOvVaw1VZqfuRC1jkxJFwO7njCPk\n",
      "標題:Video: Watch Emotional Dwyane Wade Jersey-Swap Ad Before ...https://bleacherreport.com › articles › 2830418-video-watch-emotional-dw...\n",
      "網址:/url?q=https://bleacherreport.com/articles/2830418-video-watch-emotional-dwyane-wade-jersey-swap-ad-before-final-heat-home-game&sa=U&ved=2ahUKEwiAlKqwzqDlAhUUHzQIHQsOA7cQFjATegQIAhAB&usg=AOvVaw18FUgXyMnNa_KrNYs2c3uu\n",
      "標題:Dwyane Wade - 台灣籃球維基館https://wikibasketball.dils.tku.edu.tw › index.php › Dwyane_Wade\n",
      "網址:/url?q=https://wikibasketball.dils.tku.edu.tw/index.php/Dwyane_Wade&sa=U&ved=2ahUKEwiAlKqwzqDlAhUUHzQIHQsOA7cQFjAUegQIBBAB&usg=AOvVaw2ZDmsq7KcvLt9s6J-k3Q9C\n"
     ]
    }
   ],
   "source": [
    "import requests\n",
    "from bs4 import BeautifulSoup\n",
    "\n",
    "google_url = 'https://www.google.com/search'\n",
    "\n",
    "my_params = {'q':'wade'}\n",
    "\n",
    "r = requests.get(google_url,params = my_params)\n",
    "\n",
    "if r.status_code == requests.codes.ok:\n",
    "    soup = BeautifulSoup(r.text,'html.parser')\n",
    "    \n",
    "items = soup.select('div.kCrYT > a[href^=\"/url\"]')\n",
    "\n",
    "for i in items:\n",
    "    print(\"標題:\"+i.text)\n",
    "    print(\"網址:\"+i.get('href'))"
   ]
  },
  {
   "cell_type": "code",
   "execution_count": null,
   "metadata": {},
   "outputs": [],
   "source": []
  }
 ],
 "metadata": {
  "kernelspec": {
   "display_name": "Python 3",
   "language": "python",
   "name": "python3"
  },
  "language_info": {
   "codemirror_mode": {
    "name": "ipython",
    "version": 3
   },
   "file_extension": ".py",
   "mimetype": "text/x-python",
   "name": "python",
   "nbconvert_exporter": "python",
   "pygments_lexer": "ipython3",
   "version": "3.7.3"
  }
 },
 "nbformat": 4,
 "nbformat_minor": 2
}
